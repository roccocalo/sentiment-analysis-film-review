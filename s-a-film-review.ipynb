{
 "cells": [
  {
   "cell_type": "code",
   "execution_count": 32,
   "id": "234d51c5-733b-4b07-85ae-fe9c55cd91c2",
   "metadata": {
    "scrolled": true
   },
   "outputs": [
    {
     "data": {
      "text/html": [
       "<div>\n",
       "<style scoped>\n",
       "    .dataframe tbody tr th:only-of-type {\n",
       "        vertical-align: middle;\n",
       "    }\n",
       "\n",
       "    .dataframe tbody tr th {\n",
       "        vertical-align: top;\n",
       "    }\n",
       "\n",
       "    .dataframe thead th {\n",
       "        text-align: right;\n",
       "    }\n",
       "</style>\n",
       "<table border=\"1\" class=\"dataframe\">\n",
       "  <thead>\n",
       "    <tr style=\"text-align: right;\">\n",
       "      <th></th>\n",
       "      <th>review</th>\n",
       "      <th>sentiment</th>\n",
       "    </tr>\n",
       "  </thead>\n",
       "  <tbody>\n",
       "    <tr>\n",
       "      <th>0</th>\n",
       "      <td>One of the other reviewers has mentioned that ...</td>\n",
       "      <td>positive</td>\n",
       "    </tr>\n",
       "    <tr>\n",
       "      <th>1</th>\n",
       "      <td>A wonderful little production. &lt;br /&gt;&lt;br /&gt;The...</td>\n",
       "      <td>positive</td>\n",
       "    </tr>\n",
       "  </tbody>\n",
       "</table>\n",
       "</div>"
      ],
      "text/plain": [
       "                                              review sentiment\n",
       "0  One of the other reviewers has mentioned that ...  positive\n",
       "1  A wonderful little production. <br /><br />The...  positive"
      ]
     },
     "execution_count": 32,
     "metadata": {},
     "output_type": "execute_result"
    }
   ],
   "source": [
    "# importing: pandas, matplotlib, seaborn, nltk, re, sklearn\n",
    "\n",
    "data_review = pd.read_csv(\"IMDB_Dataset.csv\")\n",
    "\n",
    "# take 30000 review out of 50000 to train the model\n",
    "data_positive = data_review[data_review['sentiment']=='positive'][:15000]\n",
    "data_negative = data_review[data_review['sentiment']=='negative'][:15000]\n",
    "\n",
    "data_review_short = pd.concat([data_positive, data_negative])\n",
    "data_review_short.head(2)"
   ]
  },
  {
   "cell_type": "markdown",
   "id": "905aebd9-d1a7-499b-8111-31394de935dd",
   "metadata": {},
   "source": [
    "Text Preprocessing"
   ]
  },
  {
   "cell_type": "code",
   "execution_count": 34,
   "id": "25d6dc4b-4cde-4dfc-9211-9fcf524a0c6e",
   "metadata": {},
   "outputs": [],
   "source": [
    "negative_words = {\"not\", \"never\", \"no\"}\n",
    "stop_words = set(stopwords.words('english'))\n",
    "lemmatizer = WordNetLemmatizer()\n",
    "\n",
    "def preprocess_text(text):\n",
    "    text = text.lower()\n",
    "    text = re.sub(r'\\W', ' ', text)\n",
    "    tokens = text.split()\n",
    "    tokens = [lemmatizer.lemmatize(word) for word in tokens if word not in stop_words or word in negative_words]\n",
    "    return ' '.join(tokens)\n",
    "\n",
    "data_review_short['review'] = data_review_short['review'].apply(preprocess_text)"
   ]
  },
  {
   "cell_type": "markdown",
   "id": "952714c1-6ee5-497b-974b-ea4add3d2652",
   "metadata": {},
   "source": [
    "Logistic Regression Implementation"
   ]
  },
  {
   "cell_type": "code",
   "execution_count": 35,
   "id": "ee6800d5-1ef9-43dd-a674-1f15776e120e",
   "metadata": {},
   "outputs": [
    {
     "name": "stdout",
     "output_type": "stream",
     "text": [
      "Should be negative. Predict: ['negative']\n",
      "Should be positive. Predict: ['positive']\n"
     ]
    }
   ],
   "source": [
    "vectorizer = TfidfVectorizer()\n",
    "X = vectorizer.fit_transform(data_review_short['review'])\n",
    "y = data_review_short['sentiment']\n",
    "\n",
    "X_train, X_test, y_train, y_test = train_test_split(X, y, test_size=0.2, random_state=42)\n",
    "\n",
    "model = LogisticRegression(max_iter=1000)\n",
    "model.fit(X_train, y_train)\n",
    "\n",
    "def predict_sentiment(review):\n",
    "    review = preprocess_text(review)\n",
    "    review_tfidf = vectorizer.transform([review])\n",
    "    return model.predict(review_tfidf)\n",
    "\n",
    "new_negative = \"This movie was horrible! I hated it.\"\n",
    "print(f\"Should be negative. Predict: {predict_sentiment(new_negative)}\")\n",
    "\n",
    "new_positive = \"This movie was fantastic! I loved it.\"\n",
    "print(f\"Should be positive. Predict: {predict_sentiment(new_positive)}\")"
   ]
  },
  {
   "cell_type": "markdown",
   "id": "b2a2ecb7-8b03-4b52-a329-361e03c579f4",
   "metadata": {},
   "source": [
    "Model Accuracy"
   ]
  },
  {
   "cell_type": "code",
   "execution_count": 36,
   "id": "0a7a0abc-3cb2-4d23-b5e4-e8aa7083462c",
   "metadata": {},
   "outputs": [
    {
     "name": "stdout",
     "output_type": "stream",
     "text": [
      "Accuracy: 0.8928333333333334\n",
      "              precision    recall  f1-score   support\n",
      "\n",
      "    negative       0.90      0.88      0.89      2952\n",
      "    positive       0.88      0.91      0.90      3048\n",
      "\n",
      "    accuracy                           0.89      6000\n",
      "   macro avg       0.89      0.89      0.89      6000\n",
      "weighted avg       0.89      0.89      0.89      6000\n",
      "\n"
     ]
    }
   ],
   "source": [
    "y_pred = model.predict(X_test)\n",
    "print(f'Accuracy: {accuracy_score(y_test, y_pred)}')\n",
    "print(classification_report(y_test, y_pred))"
   ]
  },
  {
   "cell_type": "markdown",
   "id": "550c0697-761a-45b6-a7ec-77ffddeeb8fe",
   "metadata": {},
   "source": [
    " Confusion Matrix"
   ]
  },
  {
   "cell_type": "code",
   "execution_count": 37,
   "id": "efe191f2-ef42-4623-99bf-9b4985d6f4a4",
   "metadata": {},
   "outputs": [
    {
     "data": {
      "image/png": "[encoded data removed]",
      "text/plain": [
       "<Figure size 640x480 with 2 Axes>"
      ]
     },
     "metadata": {},
     "output_type": "display_data"
    }
   ],
   "source": [
    "cm = confusion_matrix(y_test, y_pred)\n",
    "sns.heatmap(cm, annot=True, fmt='d', cmap='Blues')\n",
    "plt.show()"
   ]
  },
  {
   "cell_type": "code",
   "execution_count": null,
   "id": "3077c56d-a6d9-4199-8a3d-29068c8805ca",
   "metadata": {},
   "outputs": [],
   "source": []
  }
 ],
 "metadata": {
  "kernelspec": {
   "display_name": "Python 3 (ipykernel)",
   "language": "python",
   "name": "python3"
  },
  "language_info": {
   "codemirror_mode": {
    "name": "ipython",
    "version": 3
   },
   "file_extension": ".py",
   "mimetype": "text/x-python",
   "name": "python",
   "nbconvert_exporter": "python",
   "pygments_lexer": "ipython3",
   "version": "3.12.5"
  }
 },
 "nbformat": 4,
 "nbformat_minor": 5
}
